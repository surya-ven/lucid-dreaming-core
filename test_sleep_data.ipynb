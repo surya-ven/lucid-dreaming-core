{
 "cells": [
  {
   "cell_type": "code",
   "execution_count": 1,
   "id": "40966e56",
   "metadata": {},
   "outputs": [
    {
     "name": "stdout",
     "output_type": "stream",
     "text": [
      "Extracting EDF parameters from /Users/suryaven/Documents/code/uni/neurotech/lucid-dreaming-core/recorded_data/E244GH55FX1U_1737280614000.edf...\n",
      "EDF file detected\n",
      "Setting channel info structure...\n",
      "Creating raw.info structure...\n",
      "EDF file detected\n",
      "Setting channel info structure...\n",
      "Creating raw.info structure...\n",
      "Reading 0 ... 3661374  =      0.000 ... 29290.992 secs...\n",
      "Reading 0 ... 3661374  =      0.000 ... 29290.992 secs...\n"
     ]
    },
    {
     "data": {
      "text/html": [
       "<div>\n",
       "<style scoped>\n",
       "    .dataframe tbody tr th:only-of-type {\n",
       "        vertical-align: middle;\n",
       "    }\n",
       "\n",
       "    .dataframe tbody tr th {\n",
       "        vertical-align: top;\n",
       "    }\n",
       "\n",
       "    .dataframe thead th {\n",
       "        text-align: right;\n",
       "    }\n",
       "</style>\n",
       "<table border=\"1\" class=\"dataframe\">\n",
       "  <thead>\n",
       "    <tr style=\"text-align: right;\">\n",
       "      <th></th>\n",
       "      <th>time</th>\n",
       "      <th>LF-FpZ</th>\n",
       "      <th>OTE_L-FpZ</th>\n",
       "      <th>RF-FpZ</th>\n",
       "      <th>OTE_R-FpZ</th>\n",
       "    </tr>\n",
       "  </thead>\n",
       "  <tbody>\n",
       "    <tr>\n",
       "      <th>0</th>\n",
       "      <td>0.000</td>\n",
       "      <td>-38.453322</td>\n",
       "      <td>-265.511032</td>\n",
       "      <td>-28.382214</td>\n",
       "      <td>-1892.452773</td>\n",
       "    </tr>\n",
       "    <tr>\n",
       "      <th>1</th>\n",
       "      <td>0.008</td>\n",
       "      <td>-52.186651</td>\n",
       "      <td>572.222053</td>\n",
       "      <td>-49.439985</td>\n",
       "      <td>-493.484298</td>\n",
       "    </tr>\n",
       "    <tr>\n",
       "      <th>2</th>\n",
       "      <td>0.016</td>\n",
       "      <td>-45.777764</td>\n",
       "      <td>43.946654</td>\n",
       "      <td>-28.382214</td>\n",
       "      <td>-1667.226173</td>\n",
       "    </tr>\n",
       "    <tr>\n",
       "      <th>3</th>\n",
       "      <td>0.024</td>\n",
       "      <td>-41.199988</td>\n",
       "      <td>929.288614</td>\n",
       "      <td>-36.622211</td>\n",
       "      <td>-294.808802</td>\n",
       "    </tr>\n",
       "    <tr>\n",
       "      <th>4</th>\n",
       "      <td>0.032</td>\n",
       "      <td>-34.791101</td>\n",
       "      <td>766.319773</td>\n",
       "      <td>-48.524430</td>\n",
       "      <td>-819.421979</td>\n",
       "    </tr>\n",
       "  </tbody>\n",
       "</table>\n",
       "</div>"
      ],
      "text/plain": [
       "    time     LF-FpZ   OTE_L-FpZ     RF-FpZ    OTE_R-FpZ\n",
       "0  0.000 -38.453322 -265.511032 -28.382214 -1892.452773\n",
       "1  0.008 -52.186651  572.222053 -49.439985  -493.484298\n",
       "2  0.016 -45.777764   43.946654 -28.382214 -1667.226173\n",
       "3  0.024 -41.199988  929.288614 -36.622211  -294.808802\n",
       "4  0.032 -34.791101  766.319773 -48.524430  -819.421979"
      ]
     },
     "execution_count": 1,
     "metadata": {},
     "output_type": "execute_result"
    }
   ],
   "source": [
    "import matplotlib.pyplot as plt\n",
    "import numpy as np\n",
    "\n",
    "file_path = 'recorded_data/E244GH55FX1U_1737280614000.edf'\n",
    "\n",
    "import mne\n",
    "\n",
    "# Load the EDF file\n",
    "raw = mne.io.read_raw_edf(file_path, preload=True)\n",
    "\n",
    "# Convert to DataFrame\n",
    "df = raw.to_data_frame()\n",
    "\n",
    "# Display the first few rows\n",
    "df.head()\n"
   ]
  }
 ],
 "metadata": {
  "kernelspec": {
   "display_name": ".venv",
   "language": "python",
   "name": "python3"
  },
  "language_info": {
   "codemirror_mode": {
    "name": "ipython",
    "version": 3
   },
   "file_extension": ".py",
   "mimetype": "text/x-python",
   "name": "python",
   "nbconvert_exporter": "python",
   "pygments_lexer": "ipython3",
   "version": "3.9.6"
  }
 },
 "nbformat": 4,
 "nbformat_minor": 5
}
