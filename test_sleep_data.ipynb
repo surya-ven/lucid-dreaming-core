{
 "cells": [
  {
   "cell_type": "code",
   "execution_count": 1,
   "id": "40966e56",
   "metadata": {},
   "outputs": [
    {
     "name": "stderr",
     "output_type": "stream",
     "text": [
      "/Users/suryaven/Documents/code/uni/neurotech/frenztoolkit/.venv/lib/python3.9/site-packages/urllib3/__init__.py:35: NotOpenSSLWarning: urllib3 v2 only supports OpenSSL 1.1.1+, currently the 'ssl' module is compiled with 'LibreSSL 2.8.3'. See: https://github.com/urllib3/urllib3/issues/3020\n",
      "  warnings.warn(\n"
     ]
    },
    {
     "name": "stdout",
     "output_type": "stream",
     "text": [
      "Data shape: (4475652, 6)\n",
      "Data Preview:\n",
      "[[1.1004e-41 0.0000e+00 1.1014e-41 0.0000e+00 1.1021e-41 0.0000e+00]\n",
      " [1.1011e-41 0.0000e+00 1.1035e-41 0.0000e+00 1.1024e-41 0.0000e+00]\n",
      " [1.1034e-41 0.0000e+00 1.1038e-41 0.0000e+00 1.1060e-41 0.0000e+00]\n",
      " [1.1013e-41 0.0000e+00 1.1067e-41 0.0000e+00 1.1049e-41 0.0000e+00]\n",
      " [1.1059e-41 0.0000e+00 1.1056e-41 0.0000e+00 1.1080e-41 0.0000e+00]]\n"
     ]
    }
   ],
   "source": [
    "from frenztoolkit.reader import load_experiment\n",
    "import matplotlib.pyplot as plt\n",
    "import numpy as np\n",
    "\n",
    "file_path = 'recorded_data/E244GH55FX1U_1737363746000/E244GH55FX1U_1737363746000.dat'\n",
    "\n",
    "\n",
    "data = np.fromfile(file_path, dtype=np.float32)\n",
    "\n",
    "# 重塑数据为 (samples, channels)\n",
    "eeg = data.reshape(-1, 6)\n",
    "\n",
    "print(\"Data shape:\", eeg.shape)\n",
    "print(\"Data Preview:\")\n",
    "print(eeg[10:15])"
   ]
  }
 ],
 "metadata": {
  "kernelspec": {
   "display_name": ".venv",
   "language": "python",
   "name": "python3"
  },
  "language_info": {
   "codemirror_mode": {
    "name": "ipython",
    "version": 3
   },
   "file_extension": ".py",
   "mimetype": "text/x-python",
   "name": "python",
   "nbconvert_exporter": "python",
   "pygments_lexer": "ipython3",
   "version": "3.9.6"
  }
 },
 "nbformat": 4,
 "nbformat_minor": 5
}
