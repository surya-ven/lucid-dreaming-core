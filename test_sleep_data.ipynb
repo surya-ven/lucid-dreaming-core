{
 "cells": [
  {
   "cell_type": "code",
   "execution_count": null,
   "id": "40966e56",
   "metadata": {},
   "outputs": [],
   "source": [
    "DATA_ROOT = Path('sample_data')\n",
    "STAGES = ['Deep', 'REM', 'Light', 'Wake']\n",
    "\n",
    "def build_epochs(rec_dir):\n",
    "    edf = next(rec_dir.glob('*.edf'))\n",
    "    stage_csv = next(rec_dir.glob('*[0-9].csv'))"
   ]
  }
 ],
 "metadata": {
  "kernelspec": {
   "display_name": ".venv",
   "language": "python",
   "name": "python3"
  },
  "language_info": {
   "codemirror_mode": {
    "name": "ipython",
    "version": 3
   },
   "file_extension": ".py",
   "mimetype": "text/x-python",
   "name": "python",
   "nbconvert_exporter": "python",
   "pygments_lexer": "ipython3",
   "version": "3.9.6"
  }
 },
 "nbformat": 4,
 "nbformat_minor": 5
}
