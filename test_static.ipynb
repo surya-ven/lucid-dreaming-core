{
 "cells": [
  {
   "cell_type": "code",
   "execution_count": 4,
   "id": "40966e56",
   "metadata": {},
   "outputs": [
    {
     "name": "stdout",
     "output_type": "stream",
     "text": [
      "[[ 0.         6.4293823  0.         8.237946   0.         0.       ]\n",
      " [ 0.        -5.229248   0.         8.03849    0.         0.       ]\n",
      " [ 0.         6.4312744  0.         8.237862   0.         0.       ]\n",
      " [ 0.        -5.230957   0.         8.050774   0.         0.       ]\n",
      " [ 0.         6.4327393  0.         8.2382965  0.         0.       ]]\n",
      "Mean of each channel:\n",
      "Channel 0: 0.0\n",
      "Channel 1: 0.15531131625175476\n",
      "Channel 2: 0.0\n",
      "Channel 3: 8.002449989318848\n",
      "Channel 4: 0.0\n",
      "Channel 5: 0.0\n",
      "['device_id', 'params', 'eeg_data_size', 'ppg_data_size', 'imu_data_size', 'eeg_packetread_timestamps', 'eeg_fw_packet_timestamps', 'ppg_packetread_timestamps', 'imu_packetread_timestamps', 'hr_packetread_timestamps', 'spo2_packetread_timestamps', 'event_timestamps']\n"
     ]
    }
   ],
   "source": [
    "import numpy as np\n",
    "import matplotlib.pyplot as plt\n",
    "from frenztoolkit.reader import load_experiment\n",
    "\n",
    "# Load the recorded session from your experiment folder\n",
    "# find the folder contains your recorded data by timestamp\n",
    "session_data = load_experiment(\"recorded_data/1746587852.629345\")\n",
    "\n",
    "# Access EEG and POAS score history\n",
    "eeg = session_data[\"DATA\"][\"RAW\"][\"EEG\"]\n",
    "\n",
    "print(eeg[:5, :])\n",
    "\n",
    "# print mean of each channel\n",
    "print(\"Mean of each channel:\")\n",
    "for i in range(eeg.shape[1]):\n",
    "    print(f\"Channel {i}: {np.mean(eeg[:, i])}\")\n",
    "\n",
    "# load npz file and print\n",
    "eeg = np.load(\"recorded_data/1746587852.629345/recording_data.npz\")\n",
    "print(eeg.files)\n",
    "\n",
    "# # poas_list = session_data[\"SCORE\"][\"array__posture\"]\n",
    "# print(eeg.shape)\n",
    "# print(eeg[:10, :])"
   ]
  }
 ],
 "metadata": {
  "kernelspec": {
   "display_name": ".venv",
   "language": "python",
   "name": "python3"
  },
  "language_info": {
   "codemirror_mode": {
    "name": "ipython",
    "version": 3
   },
   "file_extension": ".py",
   "mimetype": "text/x-python",
   "name": "python",
   "nbconvert_exporter": "python",
   "pygments_lexer": "ipython3",
   "version": "3.9.6"
  }
 },
 "nbformat": 4,
 "nbformat_minor": 5
}
