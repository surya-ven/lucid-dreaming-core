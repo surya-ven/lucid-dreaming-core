{
 "cells": [
  {
   "cell_type": "code",
   "execution_count": null,
   "id": "40966e56",
   "metadata": {},
   "outputs": [
    {
     "name": "stdout",
     "output_type": "stream",
     "text": [
      "(69606, 6)\n",
      "[[ 32331. 134232.      0.   3167.  97644.      0.]\n",
      " [ 32334. 133399.      0.   3169.  94064.      0.]\n",
      " [ 32345. 134091.      0.   3189.  96986.      0.]\n",
      " [ 32347. 133449.      0.   3163.  94321.      0.]\n",
      " [ 32329. 133447.      0.   3131.  94182.      0.]]\n"
     ]
    }
   ],
   "source": [
    "# from frenztoolkit.reader import load_experiment\n",
    "import matplotlib.pyplot as plt\n",
    "import numpy as np\n",
    "num_columns = 6  # This must match how it was saved\n",
    "eeg_data_type = np.float32  # Must match EEG_DATA_TYPE used for saving\n",
    "\n",
    "loaded_eeg_flat = np.fromfile(\n",
    "    \"recorded_data/20250506_233230_327488/custom_eeg.dat\", dtype=eeg_data_type)\n",
    "# Reshape back into (num_samples, num_columns)\n",
    "# You'll need to know the total number of samples, or calculate it\n",
    "if loaded_eeg_flat.size % num_columns == 0:\n",
    "    num_samples_loaded = loaded_eeg_flat.size // num_columns\n",
    "    loaded_eeg_reshaped = loaded_eeg_flat.reshape(\n",
    "        num_samples_loaded, num_columns)\n",
    "    print(loaded_eeg_reshaped.shape)\n",
    "else:\n",
    "    print(\"Error: Cannot reshape, total elements not divisible by num_columns.\")\n",
    "\n",
    "print(loaded_eeg_reshaped[:5])\n"
   ]
  },
  {
   "cell_type": "code",
   "execution_count": null,
   "id": "05e7bed8",
   "metadata": {},
   "outputs": [
    {
     "name": "stdout",
     "output_type": "stream",
     "text": [
      "(5688, 6)\n",
      "[[0.        6.6229553 0.        7.6384277 0.        0.       ]\n",
      " [0.        6.4087524 0.        7.4002686 0.        0.       ]\n",
      " [0.        6.6210938 0.        7.627571  0.        0.       ]\n",
      " ...\n",
      " [0.        6.430908  0.        7.4586334 0.        0.       ]\n",
      " [0.        6.6084595 0.        7.6183014 0.        0.       ]\n",
      " [0.        6.435425  0.        7.191086  0.        0.       ]]\n"
     ]
    }
   ],
   "source": [
    "# # Load the recorded session from your experiment folder\n",
    "# # find the folder contains your recorded data by timestamp\n",
    "# session_data = load_experiment(\"recorded_data/1746664210.2801862\")\n",
    "\n",
    "# # Access EEG and POAS score history\n",
    "# eeg = session_data[\"DATA\"][\"RAW\"][\"EEG\"]\n",
    "# poas_list = session_data[\"SCORE\"][\"array__posture\"]\n",
    "# print(eeg.shape)\n",
    "# print(eeg[:])"
   ]
  }
 ],
 "metadata": {
  "kernelspec": {
   "display_name": ".venv",
   "language": "python",
   "name": "python3"
  },
  "language_info": {
   "codemirror_mode": {
    "name": "ipython",
    "version": 3
   },
   "file_extension": ".py",
   "mimetype": "text/x-python",
   "name": "python",
   "nbconvert_exporter": "python",
   "pygments_lexer": "ipython3",
   "version": "3.9.6"
  }
 },
 "nbformat": 4,
 "nbformat_minor": 5
}
