{
 "cells": [
  {
   "cell_type": "markdown",
   "id": "371fc79b",
   "metadata": {},
   "source": [
    "\n",
    "# View Lucid Dreaming Core Session Data\n",
    "\n",
    "This notebook loads and visualizes data recorded by the `app/main.py` application.\n",
    "It reads the `session_metadata.npz` file for session information and then loads the corresponding\n",
    "`eeg_eog_data.dat` and `aux_sensor_data.dat` binary files.\n"
   ]
  },
  {
   "cell_type": "code",
   "execution_count": 3,
   "id": "ee5e106e",
   "metadata": {},
   "outputs": [],
   "source": [
    "\n",
    "import numpy as np\n",
    "import matplotlib.pyplot as plt\n",
    "import os\n",
    "from datetime import datetime\n",
    "\n",
    "# Configure matplotlib for inline plotting\n",
    "%matplotlib inline\n",
    "plt.style.use('seaborn-v0_8-whitegrid') # Using a seaborn style for better aesthetics\n"
   ]
  },
  {
   "cell_type": "code",
   "execution_count": 4,
   "id": "6e8ce9dc",
   "metadata": {},
   "outputs": [
    {
     "name": "stdout",
     "output_type": "stream",
     "text": [
      "Available sessions:\n",
      "0: 20250520_230403_168461\n",
      "1: 20250520_223611_155605\n",
      "\n",
      "Selected session: 20250520_230403_168461\n",
      "Session path: app/recorded_data/20250520_230403_168461\n"
     ]
    }
   ],
   "source": [
    "\n",
    "# --- Configuration & Session Selection ---\n",
    "BASE_RECORDING_FOLDER = \"app/recorded_data\"\n",
    "METADATA_FILENAME = \"session_metadata.npz\"\n",
    "EEG_EOG_DATA_FILENAME = \"eeg_eog_data.dat\"\n",
    "AUX_SENSOR_DATA_FILENAME = \"aux_sensor_data.dat\"\n",
    "EEG_DATA_TYPE = np.float32 # Should match what's in main.py\n",
    "\n",
    "def list_session_folders(base_folder):\n",
    "    if not os.path.isdir(base_folder):\n",
    "        print(f\"Error: Base recording folder not found: {base_folder}\")\n",
    "        return []\n",
    "    sessions = sorted([d for d in os.listdir(base_folder) if os.path.isdir(os.path.join(base_folder, d))], reverse=True)\n",
    "    return sessions\n",
    "\n",
    "available_sessions = list_session_folders(BASE_RECORDING_FOLDER)\n",
    "if not available_sessions:\n",
    "    print(f\"No session folders found in {BASE_RECORDING_FOLDER}\")\n",
    "else:\n",
    "    print(\"Available sessions:\")\n",
    "    for i, session_id in enumerate(available_sessions):\n",
    "        print(f\"{i}: {session_id}\")\n",
    "    \n",
    "    # Select a session (e.g., the latest one)\n",
    "    selected_session_index = 0 # Or use input() for user to choose\n",
    "    if 0 <= selected_session_index < len(available_sessions):\n",
    "        SESSION_FOLDER_NAME = available_sessions[selected_session_index]\n",
    "        SESSION_PATH = os.path.join(BASE_RECORDING_FOLDER, SESSION_FOLDER_NAME)\n",
    "        print(f\"\\nSelected session: {SESSION_FOLDER_NAME}\")\n",
    "        print(f\"Session path: {SESSION_PATH}\")\n",
    "    else:\n",
    "        print(\"Invalid session index selected.\")\n",
    "        SESSION_PATH = None"
   ]
  },
  {
   "cell_type": "code",
   "execution_count": 5,
   "id": "d3aaf47d",
   "metadata": {},
   "outputs": [
    {
     "name": "stdout",
     "output_type": "stream",
     "text": [
      "\n",
      "--- Session Metadata ---\n",
      "product_key: RUtYA4W3kpXi0i9C7VZCQJY5_GRhm4XL2rKp6cviwQI=\n",
      "device_id: FRENZI40\n",
      "session_start_iso: 2025-05-20T23:04:03.168461\n",
      "sampling_frequency_hz: 125.0\n",
      "\n",
      "EEG/EOG Data Info:\n",
      "  filename: eeg_eog_data.dat\n",
      "  data_type: float32\n",
      "  channel_names: ['RAW_EEG_LF', 'RAW_EEG_OTEL', 'RAW_EEG_REF1', 'RAW_EEG_RF', 'RAW_EEG_OTER', 'RAW_EEG_REF2', 'FILT_EEG_LF', 'FILT_EEG_OTEL', 'FILT_EEG_RF', 'FILT_EEG_OTER', 'FILT_EOG_CH1', 'FILT_EOG_CH2', 'FILT_EOG_CH3', 'FILT_EOG_CH4']\n",
      "  num_channels: 14\n",
      "  shape_on_save: channels_first\n",
      "\n",
      "Auxiliary Sensor Data Info:\n",
      "  filename: aux_sensor_data.dat\n",
      "  data_type: float32\n",
      "  channel_names: ['FILT_EMG_CH1', 'FILT_EMG_CH2', 'FILT_EMG_CH3', 'FILT_EMG_CH4', 'RAW_IMU_X', 'RAW_IMU_Y', 'RAW_IMU_Z', 'RAW_PPG_GREEN', 'RAW_PPG_RED', 'RAW_PPG_IR']\n",
      "  num_channels: 10\n",
      "  shape_on_save: channels_first\n"
     ]
    }
   ],
   "source": [
    "\n",
    "# --- Load Metadata --- \n",
    "metadata = None\n",
    "if SESSION_PATH and os.path.isdir(SESSION_PATH):\n",
    "    metadata_filepath = os.path.join(SESSION_PATH, METADATA_FILENAME)\n",
    "    if os.path.exists(metadata_filepath):\n",
    "        try:\n",
    "            metadata = np.load(metadata_filepath, allow_pickle=True)\n",
    "            print(\"\\n--- Session Metadata ---\")\n",
    "            for key, value in metadata.items():\n",
    "                if key not in ['scores', 'eeg_eog_data_info', 'aux_sensor_data_info'] and not key.startswith(\"metadata_\"):\n",
    "                    print(f\"{key}: {value}\")\n",
    "            \n",
    "            if 'eeg_eog_data_info' in metadata:\n",
    "                print(\"\\nEEG/EOG Data Info:\")\n",
    "                for k,v in metadata['eeg_eog_data_info'].item().items(): # .item() if it's a 0-d array object\n",
    "                    print(f\"  {k}: {v}\")\n",
    "            if 'aux_sensor_data_info' in metadata:\n",
    "                print(\"\\nAuxiliary Sensor Data Info:\")\n",
    "                for k,v in metadata['aux_sensor_data_info'].item().items():\n",
    "                    print(f\"  {k}: {v}\")\n",
    "            \n",
    "            # Store for later use\n",
    "            eeg_eog_info = metadata['eeg_eog_data_info'].item() if 'eeg_eog_data_info' in metadata else None\n",
    "            aux_info = metadata['aux_sensor_data_info'].item() if 'aux_sensor_data_info' in metadata else None\n",
    "            sampling_frequency = metadata['sampling_frequency_hz'].item() if 'sampling_frequency_hz' in metadata else 250.0\n",
    "\n",
    "        except Exception as e:\n",
    "            print(f\"Error loading metadata file {metadata_filepath}: {e}\")\n",
    "            metadata = None\n",
    "    else:\n",
    "        print(f\"Metadata file not found: {metadata_filepath}\")\n",
    "else:\n",
    "    print(\"Session path not set or invalid.\")\n"
   ]
  },
  {
   "cell_type": "code",
   "execution_count": 6,
   "id": "b2066b98",
   "metadata": {},
   "outputs": [],
   "source": [
    "\n",
    "# --- Function to Load .dat Files ---\n",
    "def load_dat_file(filepath, num_channels, total_samples, dtype=np.float32):\n",
    "    if not os.path.exists(filepath):\n",
    "        print(f\"Data file not found: {filepath}\")\n",
    "        return None\n",
    "    try:\n",
    "        data_flat = np.fromfile(filepath, dtype=dtype)\n",
    "        # Expected number of elements\n",
    "        expected_elements = num_channels * total_samples\n",
    "        if data_flat.size != expected_elements:\n",
    "            print(f\"Warning: File size mismatch for {filepath}. Expected {expected_elements} elements, got {data_flat.size}.\")\n",
    "            # Attempt to reshape with actual elements, might lead to incorrect total_samples if file is corrupt/incomplete\n",
    "            # For robust handling, one might need to adjust total_samples or num_channels based on data_flat.size\n",
    "            # For now, we'll try to reshape with the number of samples that fits the channel count\n",
    "            if data_flat.size % num_channels == 0:\n",
    "                actual_total_samples = data_flat.size // num_channels\n",
    "                if actual_total_samples != total_samples:\n",
    "                    print(f\"Adjusting total samples for {filepath} from {total_samples} to {actual_total_samples} based on file size.\")\n",
    "                total_samples = actual_total_samples\n",
    "            else:\n",
    "                print(f\"Error: Cannot reshape data for {filepath} as size {data_flat.size} is not divisible by num_channels {num_channels}.\")\n",
    "                return None\n",
    "        \n",
    "        # Reshape to (num_channels, total_samples)\n",
    "        # Data was written as (channels, samples_in_block).tobytes(), so it's C-contiguous.\n",
    "        reshaped_data = data_flat.reshape(num_channels, total_samples)\n",
    "        return reshaped_data\n",
    "    except Exception as e:\n",
    "        print(f\"Error loading or reshaping data file {filepath}: {e}\")\n",
    "        return None\n"
   ]
  },
  {
   "cell_type": "code",
   "execution_count": 7,
   "id": "4ec29810",
   "metadata": {},
   "outputs": [
    {
     "name": "stdout",
     "output_type": "stream",
     "text": [
      "\n",
      "Loaded EEG/EOG data. Shape: (14, 294875)\n"
     ]
    }
   ],
   "source": [
    "\n",
    "# --- Load EEG/EOG Data ---\n",
    "eeg_eog_data_loaded = None\n",
    "if metadata and eeg_eog_info and SESSION_PATH:\n",
    "    eeg_eog_data_filepath = os.path.join(SESSION_PATH, EEG_EOG_DATA_FILENAME)\n",
    "    num_eeg_eog_channels = eeg_eog_info['num_channels']\n",
    "    \n",
    "    if 'metadata_eeg_eog_sample_counts' in metadata:\n",
    "        total_eeg_eog_samples = np.sum(metadata['metadata_eeg_eog_sample_counts'])\n",
    "        if total_eeg_eog_samples > 0:\n",
    "            eeg_eog_data_loaded = load_dat_file(eeg_eog_data_filepath, num_eeg_eog_channels, total_eeg_eog_samples, dtype=EEG_DATA_TYPE)\n",
    "            if eeg_eog_data_loaded is not None:\n",
    "                print(f\"\\nLoaded EEG/EOG data. Shape: {eeg_eog_data_loaded.shape}\")\n",
    "        else:\n",
    "            print(\"No EEG/EOG samples recorded according to metadata.\")\n",
    "    else:\n",
    "        print(\"EEG/EOG sample counts not found in metadata.\")\n"
   ]
  },
  {
   "cell_type": "code",
   "execution_count": 8,
   "id": "bae29cf9",
   "metadata": {},
   "outputs": [
    {
     "name": "stdout",
     "output_type": "stream",
     "text": [
      "First 5 rows of EEG/EOG data (channels x samples):\n",
      "[[ 9.32000000e+03  9.32000000e+03  9.32000000e+03 ...  1.46802094e+02\n",
      "   1.69247894e+02  2.04758133e+02]\n",
      " [ 3.51603622e+01  4.00326157e+01  4.51104889e+01 ...  4.65912390e+00\n",
      "   7.08482504e+00  8.07183456e+00]\n",
      " [ 5.84500000e+03  5.83500000e+03  5.81400000e+03 ... -1.23507051e+01\n",
      "  -5.23574305e+00 -8.50970459e+00]\n",
      " [-3.38537521e+01 -3.34189301e+01 -3.42980423e+01 ... -1.10153055e+01\n",
      "  -8.93185520e+00 -6.67639923e+00]]\n"
     ]
    }
   ],
   "source": [
    "# --- Print First 5 Rows of EEG/EOG Data ---\n",
    "if eeg_eog_data_loaded is not None:\n",
    "    print(\"First 5 rows of EEG/EOG data (channels x samples):\")\n",
    "    print(eeg_eog_data_loaded[:4, :])\n",
    "else:\n",
    "    print(\"EEG/EOG data not loaded.\")\n"
   ]
  },
  {
   "cell_type": "code",
   "execution_count": 23,
   "id": "b5ae00e1",
   "metadata": {},
   "outputs": [
    {
     "name": "stdout",
     "output_type": "stream",
     "text": [
      "\n",
      "Loaded Auxiliary sensor data. Shape: (10, 5000)\n"
     ]
    }
   ],
   "source": [
    "\n",
    "# --- Load Auxiliary Sensor Data ---\n",
    "aux_data_loaded = None\n",
    "if metadata and aux_info and SESSION_PATH:\n",
    "    aux_data_filepath = os.path.join(SESSION_PATH, AUX_SENSOR_DATA_FILENAME)\n",
    "    num_aux_channels = aux_info['num_channels']\n",
    "    \n",
    "    if 'metadata_aux_sample_counts' in metadata:\n",
    "        total_aux_samples = np.sum(metadata['metadata_aux_sample_counts'])\n",
    "        if total_aux_samples > 0:\n",
    "            aux_data_loaded = load_dat_file(aux_data_filepath, num_aux_channels, total_aux_samples, dtype=EEG_DATA_TYPE)\n",
    "            if aux_data_loaded is not None:\n",
    "                print(f\"\\nLoaded Auxiliary sensor data. Shape: {aux_data_loaded.shape}\")\n",
    "        else:\n",
    "            print(\"No Auxiliary sensor samples recorded according to metadata.\")\n",
    "    else:\n",
    "        print(\"Auxiliary sensor sample counts not found in metadata.\")\n"
   ]
  },
  {
   "cell_type": "code",
   "execution_count": 24,
   "id": "c63534da",
   "metadata": {},
   "outputs": [
    {
     "name": "stdout",
     "output_type": "stream",
     "text": [
      "First 5 rows of Auxiliary sensor data (channels x samples):\n",
      "[[-1.4412411e+00 -1.5017254e+00 -7.0405960e-01 ...            nan\n",
      "             nan            nan]\n",
      " [ 2.1190817e+00  9.8768854e+00  4.3505722e+01 ...            nan\n",
      "             nan            nan]\n",
      " [-1.3380608e+01  1.9752497e+01 -3.8103056e+00 ...  2.0807900e+05\n",
      "   2.0813000e+05  2.0813600e+05]\n",
      " [-9.1413260e-01  9.8136514e-01  1.3064108e+00 ...  2.0907100e+05\n",
      "   2.0909100e+05  2.0908300e+05]\n",
      " [ 3.1863903e+01  2.2856979e+01  2.3144464e+01 ...  2.0838300e+05\n",
      "   2.0840900e+05  2.0842600e+05]]\n"
     ]
    }
   ],
   "source": [
    "# --- Print First 5 Rows of Auxiliary Sensor Data ---\n",
    "if aux_data_loaded is not None:\n",
    "    print(\"First 5 rows of Auxiliary sensor data (channels x samples):\")\n",
    "    print(aux_data_loaded[:5, :])\n",
    "else:\n",
    "    print(\"Auxiliary sensor data not loaded.\")\n"
   ]
  },
  {
   "cell_type": "code",
   "execution_count": 20,
   "id": "7d0f9542",
   "metadata": {},
   "outputs": [
    {
     "name": "stdout",
     "output_type": "stream",
     "text": [
      "\n",
      "--- Saved Scores ---\n",
      "\n",
      "Score: array__sleep_stage (Length: 0)\n",
      "[]\n",
      "\n",
      "Score: array__poas (Length: 0)\n",
      "[]\n",
      "\n",
      "Score: array__posture (Length: 7)\n",
      "['upright' 'upright' 'upright' 'upright' 'upright' 'upright' 'upright']\n",
      "\n",
      "Score: array__focus_score (Length: 20)\n",
      "[40.         40.         40.         40.         40.         40.\n",
      " 40.81724336 42.44151009 44.38123499 47.90894181 51.98287235 55.98949534\n",
      " 58.93907686 60.47720593 60.29954905 58.80419991 56.29855942 53.1963579\n",
      " 50.08986352 47.67902808]\n",
      "\n",
      "Score: array__sqc_scores (Length: 7)\n",
      "[[0 0 0 0]\n",
      " [0 0 0 0]\n",
      " [0 0 0 0]\n",
      " [0 0 0 0]\n",
      " [0 0 0 0]\n",
      " [0 0 0 0]\n",
      " [0 0 0 0]]\n"
     ]
    }
   ],
   "source": [
    "\n",
    "# --- Display Scores ---\n",
    "if metadata and 'scores' in metadata:\n",
    "    scores_dict = metadata['scores'].item() # .item() because it's saved as a 0-d object array containing the dict\n",
    "    print(\"\\n--- Saved Scores ---\")\n",
    "    for score_name, score_array in scores_dict.items():\n",
    "        print(f\"\\nScore: {score_name} (Length: {len(score_array) if hasattr(score_array, '__len__') else 'N/A'})\")\n",
    "        print(score_array)\n",
    "        \n",
    "        # Example: Plot sleep stage if available and not empty\n",
    "        if score_name == \"array__sleep_stage\" and hasattr(score_array, '__len__') and len(score_array) > 0:\n",
    "            plt.figure(figsize=(12, 3))\n",
    "            # Assuming scores are roughly every 30s for sleep stage, create a simple x-axis\n",
    "            # For more accuracy, one would need timestamps per score point if available\n",
    "            score_time_axis = np.arange(len(score_array))\n",
    "            plt.plot(score_time_axis, score_array, marker='o', linestyle='-')\n",
    "            plt.title(\"Sleep Stages Over Session\")\n",
    "            plt.xlabel(\"Segment (e.g., 30s epoch number)\")\n",
    "            plt.ylabel(\"Sleep Stage\")\n",
    "            # value < 0: undefined, value = 0: awake, value = 1: light, value = 2: deep, value = 3: REM\n",
    "            plt.yticks([-1, 0, 1, 2, 3], ['Undefined', 'Awake', 'Light', 'Deep', 'REM'])\n",
    "            plt.grid(True)\n",
    "            plt.show()\n",
    "else:\n",
    "    print(\"Scores not found in metadata.\")\n"
   ]
  }
 ],
 "metadata": {
  "kernelspec": {
   "display_name": ".venv",
   "language": "python",
   "name": "python3"
  },
  "language_info": {
   "codemirror_mode": {
    "name": "ipython",
    "version": 3
   },
   "file_extension": ".py",
   "mimetype": "text/x-python",
   "name": "python",
   "nbconvert_exporter": "python",
   "pygments_lexer": "ipython3",
   "version": "3.9.6"
  }
 },
 "nbformat": 4,
 "nbformat_minor": 5
}
