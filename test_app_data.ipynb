{
 "cells": [
  {
   "cell_type": "markdown",
   "id": "371fc79b",
   "metadata": {},
   "source": [
    "\n",
    "# View Lucid Dreaming Core Session Data\n",
    "\n",
    "This notebook loads and visualizes data recorded by the `app/main.py` application.\n",
    "It reads the `session_metadata.npz` file for session information and then loads the corresponding\n",
    "`eeg_eog_data.dat` and `aux_sensor_data.dat` binary files.\n"
   ]
  },
  {
   "cell_type": "code",
   "execution_count": 100,
   "id": "ee5e106e",
   "metadata": {},
   "outputs": [],
   "source": [
    "\n",
    "import numpy as np\n",
    "import matplotlib.pyplot as plt\n",
    "import os\n",
    "from datetime import datetime\n",
    "from frenztoolkit.reader import load_experiment\n",
    "\n",
    "# Configure matplotlib for inline plotting\n",
    "%matplotlib inline\n",
    "plt.style.use('seaborn-v0_8-whitegrid') # Using a seaborn style for better aesthetics\n"
   ]
  },
  {
   "cell_type": "code",
   "execution_count": 101,
   "id": "6e8ce9dc",
   "metadata": {},
   "outputs": [
    {
     "name": "stdout",
     "output_type": "stream",
     "text": [
      "Available sessions:\n",
      "0: 20250521_001132_133620\n",
      "1: 20250521_000943_062030\n",
      "2: 20250521_000432_485273\n",
      "\n",
      "Selected session: 20250521_001132_133620\n",
      "Session path: app/recorded_data/20250521_001132_133620\n"
     ]
    }
   ],
   "source": [
    "\n",
    "# --- Configuration & Session Selection ---\n",
    "BASE_RECORDING_FOLDER = \"app/recorded_data\"\n",
    "METADATA_FILENAME = \"session_metadata.npz\"\n",
    "EEG_EOG_DATA_FILENAME = \"eeg_eog_data.dat\"\n",
    "AUX_SENSOR_DATA_FILENAME = \"aux_sensor_data.dat\"\n",
    "EEG_DATA_TYPE = np.float32 # Should match what's in main.py\n",
    "\n",
    "def list_session_folders(base_folder):\n",
    "    if not os.path.isdir(base_folder):\n",
    "        print(f\"Error: Base recording folder not found: {base_folder}\")\n",
    "        return []\n",
    "    sessions = sorted([d for d in os.listdir(base_folder) if os.path.isdir(os.path.join(base_folder, d))], reverse=True)\n",
    "    return sessions\n",
    "\n",
    "available_sessions = list_session_folders(BASE_RECORDING_FOLDER)\n",
    "if not available_sessions:\n",
    "    print(f\"No session folders found in {BASE_RECORDING_FOLDER}\")\n",
    "else:\n",
    "    print(\"Available sessions:\")\n",
    "    for i, session_id in enumerate(available_sessions):\n",
    "        print(f\"{i}: {session_id}\")\n",
    "    \n",
    "    # Select a session (e.g., the latest one)\n",
    "    selected_session_index = 0 # Or use input() for user to choose\n",
    "    if 0 <= selected_session_index < len(available_sessions):\n",
    "        SESSION_FOLDER_NAME = available_sessions[selected_session_index]\n",
    "        SESSION_PATH = os.path.join(BASE_RECORDING_FOLDER, SESSION_FOLDER_NAME)\n",
    "        print(f\"\\nSelected session: {SESSION_FOLDER_NAME}\")\n",
    "        print(f\"Session path: {SESSION_PATH}\")\n",
    "    else:\n",
    "        print(\"Invalid session index selected.\")\n",
    "        SESSION_PATH = None"
   ]
  },
  {
   "cell_type": "code",
   "execution_count": 102,
   "id": "d3aaf47d",
   "metadata": {},
   "outputs": [
    {
     "name": "stdout",
     "output_type": "stream",
     "text": [
      "\n",
      "--- Session Metadata ---\n",
      "product_key: RUtYA4W3kpXi0i9C7VZCQJY5_GRhm4XL2rKp6cviwQI=\n",
      "device_id: FRENZI40\n",
      "session_start_iso: 2025-05-21T00:11:32.133620\n",
      "sampling_frequency_hz: 125.0\n",
      "\n",
      "EEG/EOG Data Info:\n",
      "  filename: eeg_eog_data.dat\n",
      "  data_type: float32\n",
      "  channel_names: ['RAW_EEG_LF', 'RAW_EEG_OTEL', 'RAW_EEG_REF1', 'RAW_EEG_RF', 'RAW_EEG_OTER', 'RAW_EEG_REF2', 'FILT_EEG_LF', 'FILT_EEG_OTEL', 'FILT_EEG_RF', 'FILT_EEG_OTER', 'FILT_EOG_CH1', 'FILT_EOG_CH2', 'FILT_EOG_CH3', 'FILT_EOG_CH4']\n",
      "  num_channels: 14\n",
      "  shape_on_save: channels_first\n",
      "\n",
      "Auxiliary Sensor Data Info:\n",
      "  filename: aux_sensor_data.dat\n",
      "  data_type: float32\n",
      "  channel_names: ['FILT_EMG_CH1', 'FILT_EMG_CH2', 'FILT_EMG_CH3', 'FILT_EMG_CH4', 'RAW_IMU_X', 'RAW_IMU_Y', 'RAW_IMU_Z', 'RAW_PPG_GREEN', 'RAW_PPG_RED', 'RAW_PPG_IR']\n",
      "  num_channels: 10\n",
      "  shape_on_save: channels_first\n"
     ]
    }
   ],
   "source": [
    "\n",
    "# --- Load Metadata --- \n",
    "metadata = None\n",
    "if SESSION_PATH and os.path.isdir(SESSION_PATH):\n",
    "    metadata_filepath = os.path.join(SESSION_PATH, METADATA_FILENAME)\n",
    "    if os.path.exists(metadata_filepath):\n",
    "        try:\n",
    "            metadata = np.load(metadata_filepath, allow_pickle=True)\n",
    "            print(\"\\n--- Session Metadata ---\")\n",
    "            for key, value in metadata.items():\n",
    "                if key not in ['scores', 'eeg_eog_data_info', 'aux_sensor_data_info'] and not key.startswith(\"metadata_\"):\n",
    "                    print(f\"{key}: {value}\")\n",
    "            \n",
    "            if 'eeg_eog_data_info' in metadata:\n",
    "                print(\"\\nEEG/EOG Data Info:\")\n",
    "                for k,v in metadata['eeg_eog_data_info'].item().items(): # .item() if it's a 0-d array object\n",
    "                    print(f\"  {k}: {v}\")\n",
    "            if 'aux_sensor_data_info' in metadata:\n",
    "                print(\"\\nAuxiliary Sensor Data Info:\")\n",
    "                for k,v in metadata['aux_sensor_data_info'].item().items():\n",
    "                    print(f\"  {k}: {v}\")\n",
    "            \n",
    "            # Store for later use\n",
    "            eeg_eog_info = metadata['eeg_eog_data_info'].item() if 'eeg_eog_data_info' in metadata else None\n",
    "            aux_info = metadata['aux_sensor_data_info'].item() if 'aux_sensor_data_info' in metadata else None\n",
    "            sampling_frequency = metadata['sampling_frequency_hz'].item() if 'sampling_frequency_hz' in metadata else 250.0\n",
    "\n",
    "        except Exception as e:\n",
    "            print(f\"Error loading metadata file {metadata_filepath}: {e}\")\n",
    "            metadata = None\n",
    "    else:\n",
    "        print(f\"Metadata file not found: {metadata_filepath}\")\n",
    "else:\n",
    "    print(\"Session path not set or invalid.\")\n"
   ]
  },
  {
   "cell_type": "code",
   "execution_count": 103,
   "id": "b2066b98",
   "metadata": {},
   "outputs": [],
   "source": [
    "\n",
    "# --- Function to Load .dat Files ---\n",
    "def load_dat_file(filepath, num_channels, total_samples, dtype=np.float32):\n",
    "    if not os.path.exists(filepath):\n",
    "        print(f\"Data file not found: {filepath}\")\n",
    "        return None\n",
    "    try:\n",
    "        data_flat = np.fromfile(filepath, dtype=dtype)\n",
    "        # Expected number of elements\n",
    "        expected_elements = num_channels * total_samples\n",
    "        if data_flat.size != expected_elements:\n",
    "            print(f\"Warning: File size mismatch for {filepath}. Expected {expected_elements} elements, got {data_flat.size}.\")\n",
    "            # Attempt to reshape with actual elements, might lead to incorrect total_samples if file is corrupt/incomplete\n",
    "            # For robust handling, one might need to adjust total_samples or num_channels based on data_flat.size\n",
    "            # For now, we'll try to reshape with the number of samples that fits the channel count\n",
    "            if data_flat.size % num_channels == 0:\n",
    "                actual_total_samples = data_flat.size // num_channels\n",
    "                if actual_total_samples != total_samples:\n",
    "                    print(f\"Adjusting total samples for {filepath} from {total_samples} to {actual_total_samples} based on file size.\")\n",
    "                total_samples = actual_total_samples\n",
    "            else:\n",
    "                print(f\"Error: Cannot reshape data for {filepath} as size {data_flat.size} is not divisible by num_channels {num_channels}.\")\n",
    "                return None\n",
    "        \n",
    "        # Reshape to (num_channels, total_samples)\n",
    "        # Data was written as (channels, samples_in_block).tobytes(), so it's C-contiguous.\n",
    "        reshaped_data = data_flat.reshape(num_channels, total_samples)\n",
    "        return reshaped_data\n",
    "    except Exception as e:\n",
    "        print(f\"Error loading or reshaping data file {filepath}: {e}\")\n",
    "        return None\n"
   ]
  },
  {
   "cell_type": "code",
   "execution_count": 104,
   "id": "4ec29810",
   "metadata": {},
   "outputs": [
    {
     "name": "stdout",
     "output_type": "stream",
     "text": [
      "File size: 77462000 bytes, expected elements: 1383250\n",
      "\n",
      "Loaded EEG/EOG data. Shape: (14, 1383250)\n"
     ]
    }
   ],
   "source": [
    "\n",
    "# --- Load EEG/EOG Data ---\n",
    "eeg_eog_data_loaded = None\n",
    "if metadata and eeg_eog_info and SESSION_PATH:\n",
    "    eeg_eog_data_filepath = os.path.join(SESSION_PATH, EEG_EOG_DATA_FILENAME)\n",
    "    num_eeg_eog_channels = eeg_eog_info['num_channels']\n",
    "    \n",
    "    if 'metadata_eeg_eog_sample_counts' in metadata:\n",
    "        total_eeg_eog_samples = np.sum(metadata['metadata_eeg_eog_sample_counts'])\n",
    "        if total_eeg_eog_samples > 0:\n",
    "            eeg_eog_data_loaded = load_dat_file(eeg_eog_data_filepath, num_eeg_eog_channels, total_eeg_eog_samples, dtype=EEG_DATA_TYPE)\n",
    "            if eeg_eog_data_loaded is not None:\n",
    "                print(f\"\\nLoaded EEG/EOG data. Shape: {eeg_eog_data_loaded.shape}\")\n",
    "    else:\n",
    "        # We know the num channels and the data is 32-bit float\n",
    "        # If sample counts are not found, we can calculate the total samples based on the file size\n",
    "        file_size = os.path.getsize(eeg_eog_data_filepath)\n",
    "        expected_elements = file_size // (num_eeg_eog_channels * np.dtype(EEG_DATA_TYPE).itemsize)\n",
    "        print(f\"File size: {file_size} bytes, expected elements: {expected_elements}\")\n",
    "        if expected_elements > 0:\n",
    "            eeg_eog_data_loaded = load_dat_file(eeg_eog_data_filepath, num_eeg_eog_channels, expected_elements, dtype=EEG_DATA_TYPE)\n",
    "            if eeg_eog_data_loaded is not None:\n",
    "                print(f\"\\nLoaded EEG/EOG data. Shape: {eeg_eog_data_loaded.shape}\")\n",
    "        else:\n",
    "            print(\"EEG/EOG sample counts not found in metadata.\")\n"
   ]
  },
  {
   "cell_type": "code",
   "execution_count": 105,
   "id": "bae29cf9",
   "metadata": {},
   "outputs": [
    {
     "name": "stdout",
     "output_type": "stream",
     "text": [
      "First 5 rows of EEG/EOG data (channels x samples):\n",
      "[[ 5.6550000e+03  5.5750000e+03  5.6450000e+03 ...  0.0000000e+00\n",
      "   0.0000000e+00  0.0000000e+00]\n",
      " [-2.8836622e+00  6.0716206e-01  3.7366433e+00 ...  6.2920456e+00\n",
      "   6.0590878e+00  4.9277105e+00]\n",
      " [ 1.2889283e+00  1.0186682e+00  4.6600932e-01 ... -1.8059000e+04\n",
      "  -1.8054000e+04 -1.8058000e+04]\n",
      " [ 1.5261100e+05  1.5218700e+05  1.5258400e+05 ... -5.5590975e-01\n",
      "  -5.6171376e-01 -5.8095491e-01]]\n"
     ]
    }
   ],
   "source": [
    "# --- Print First 5 Rows of EEG/EOG Data ---\n",
    "if eeg_eog_data_loaded is not None:\n",
    "    print(\"First 5 rows of EEG/EOG data (channels x samples):\")\n",
    "    print(eeg_eog_data_loaded[:4, :])\n",
    "else:\n",
    "    print(\"EEG/EOG data not loaded.\")\n"
   ]
  },
  {
   "cell_type": "code",
   "execution_count": 106,
   "id": "b5ae00e1",
   "metadata": {},
   "outputs": [
    {
     "name": "stdout",
     "output_type": "stream",
     "text": [
      "File size: 55330000 bytes, expected elements: 1383250\n",
      "\n",
      "Loaded Auxiliary sensor data. Shape: (10, 1383250)\n"
     ]
    }
   ],
   "source": [
    "\n",
    "# --- Load Auxiliary Sensor Data ---\n",
    "aux_data_loaded = None\n",
    "if metadata and aux_info and SESSION_PATH:\n",
    "    aux_data_filepath = os.path.join(SESSION_PATH, AUX_SENSOR_DATA_FILENAME)\n",
    "    num_aux_channels = aux_info['num_channels']\n",
    "    \n",
    "    if 'metadata_aux_sample_counts' in metadata:\n",
    "        total_aux_samples = np.sum(metadata['metadata_aux_sample_counts'])\n",
    "        if total_aux_samples > 0:\n",
    "            aux_data_loaded = load_dat_file(aux_data_filepath, num_aux_channels, total_aux_samples, dtype=EEG_DATA_TYPE)\n",
    "            if aux_data_loaded is not None:\n",
    "                print(f\"\\nLoaded Auxiliary sensor data. Shape: {aux_data_loaded.shape}\")\n",
    "        else:\n",
    "            print(\"No Auxiliary sensor samples recorded according to metadata.\")\n",
    "    else:\n",
    "        # We know the num channels and the data is 32-bit float\n",
    "        # If sample counts are not found, we can calculate the total samples based on the file size\n",
    "        file_size = os.path.getsize(aux_data_filepath)\n",
    "        expected_elements = file_size // (num_aux_channels * np.dtype(EEG_DATA_TYPE).itemsize)\n",
    "        print(f\"File size: {file_size} bytes, expected elements: {expected_elements}\")\n",
    "        if expected_elements > 0:\n",
    "            aux_data_loaded = load_dat_file(aux_data_filepath, num_aux_channels, expected_elements, dtype=EEG_DATA_TYPE)\n",
    "            if aux_data_loaded is not None:\n",
    "                print(f\"\\nLoaded Auxiliary sensor data. Shape: {aux_data_loaded.shape}\")\n",
    "        else:\n",
    "            print(\"Auxiliary sensor sample counts not found in metadata.\")\n"
   ]
  },
  {
   "cell_type": "code",
   "execution_count": 107,
   "id": "c63534da",
   "metadata": {},
   "outputs": [
    {
     "name": "stdout",
     "output_type": "stream",
     "text": [
      "First 5 rows of Auxiliary sensor data (channels x samples):\n",
      "[[-1.5255341e+01 -1.7700804e+01 -4.9470348e+00 ... -2.5939374e+02\n",
      "  -2.5311563e+02 -2.5571875e+02]\n",
      " [ 5.7728125e+02  5.7682190e+02  5.7728125e+02 ...  2.8134912e-01\n",
      "  -4.7442231e-02 -5.0683779e-01]\n",
      " [-7.1758957e+00 -1.1086590e+00 -3.0496933e+00 ...  0.0000000e+00\n",
      "   0.0000000e+00  0.0000000e+00]\n",
      " [ 1.2062900e+05  1.2060000e+05  1.2060600e+05 ...  6.6905636e-01\n",
      "  -7.9001926e-02  5.7973844e-01]\n",
      " [ 1.9584688e+02  1.9064062e+02  1.9293750e+02 ...  2.1701300e+05\n",
      "   2.1705600e+05  2.1709600e+05]]\n"
     ]
    }
   ],
   "source": [
    "# --- Print First 5 Rows of Auxiliary Sensor Data ---\n",
    "if aux_data_loaded is not None:\n",
    "    print(\"First 5 rows of Auxiliary sensor data (channels x samples):\")\n",
    "    print(aux_data_loaded[:5, :])\n",
    "else:\n",
    "    print(\"Auxiliary sensor data not loaded.\")\n"
   ]
  },
  {
   "cell_type": "code",
   "execution_count": 108,
   "id": "7d0f9542",
   "metadata": {},
   "outputs": [
    {
     "name": "stdout",
     "output_type": "stream",
     "text": [
      "Loading session data from: app/recorded_data/20250521_001132_133620/1747800697.814435\n",
      "\n",
      "--- Session Data Keys ---\n",
      "DATA\n",
      "SCORE\n"
     ]
    },
    {
     "data": {
      "image/png": "[encoded data removed]",
      "text/plain": [
       "<Figure size 1200x300 with 1 Axes>"
      ]
     },
     "metadata": {},
     "output_type": "display_data"
    }
   ],
   "source": [
    "\n",
    "# --- Display Scores ---\n",
    "if metadata and 'scores' in metadata:\n",
    "    scores_dict = metadata['scores'].item() # .item() because it's saved as a 0-d object array containing the dict\n",
    "    print(\"\\n--- Saved Scores ---\")\n",
    "    for score_name, score_array in scores_dict.items():\n",
    "        print(f\"\\nScore: {score_name} (Length: {len(score_array) if hasattr(score_array, '__len__') else 'N/A'})\")\n",
    "        print(score_array)\n",
    "        \n",
    "        # Example: Plot sleep stage if available and not empty\n",
    "        if score_name == \"array__sleep_stage\" and hasattr(score_array, '__len__') and len(score_array) > 0:\n",
    "            plt.figure(figsize=(12, 3))\n",
    "            # Assuming scores are roughly every 30s for sleep stage, create a simple x-axis\n",
    "            # For more accuracy, one would need timestamps per score point if available\n",
    "            score_time_axis = np.arange(len(score_array))\n",
    "            plt.plot(score_time_axis, score_array, marker='o', linestyle='-')\n",
    "            plt.title(\"Sleep Stages Over Session\")\n",
    "            plt.xlabel(\"Segment (e.g., 30s epoch number)\")\n",
    "            plt.ylabel(\"Sleep Stage\")\n",
    "            # value < 0: undefined, value = 0: awake, value = 1: light, value = 2: deep, value = 3: REM\n",
    "            plt.yticks([-1, 0, 1, 2, 3], ['Undefined', 'Awake', 'Light', 'Deep', 'REM'])\n",
    "            plt.grid(True)\n",
    "            plt.show()\n",
    "else:\n",
    "    # Fallback to frenztoolkit for loading session data\n",
    "    # Their data is stored in a subfolder of our recorded_data folder\n",
    "    # so load the experiment from the subfolder\n",
    "    # Get path to first folder within the selected session\n",
    "    # using os.path.isdir\n",
    "    session_subfolder = os.path.join(SESSION_PATH, [d for d in os.listdir(SESSION_PATH) if os.path.isdir(os.path.join(SESSION_PATH, d))][0])\n",
    "    print(f\"Loading session data from: {session_subfolder}\")\n",
    "    # Load session data\n",
    "    session_data = load_experiment(session_subfolder)\n",
    "    # Print session data keys\n",
    "    print(\"\\n--- Session Data Keys ---\")\n",
    "    for key in session_data.keys():\n",
    "        print(key)\n",
    "\n",
    "    # Access EEG and Focus score history\n",
    "    # eeg = session_data[\"DATA\"][\"RAW\"][\"EEG\"]\n",
    "    # print(eeg.shape)\n",
    "    sleep_stage_list = session_data[\"SCORE\"][\"array__sleep_stage\"]\n",
    "\n",
    "    # Plot sleep stage if available\n",
    "    if sleep_stage_list is not None and len(sleep_stage_list) > 0:\n",
    "        plt.figure(figsize=(12, 3))\n",
    "        # Assuming scores are roughly every 30s for sleep stage, create a simple x-axis\n",
    "        # For more accuracy, one would need timestamps per score point if available\n",
    "        score_time_axis = np.arange(len(sleep_stage_list))\n",
    "        plt.plot(score_time_axis, sleep_stage_list, marker='o', linestyle='-')\n",
    "        plt.title(\"Sleep Stages Over Session\")\n",
    "        plt.xlabel(\"Segment (e.g., 30s epoch number)\")\n",
    "        plt.ylabel(\"Sleep Stage\")\n",
    "        # value < 0: undefined, value = 0: awake, value = 1: light, value = 2: deep, value = 3: REM\n",
    "        plt.yticks([-1, 0, 1, 2, 3], ['Undefined', 'Awake', 'Light', 'Deep', 'REM'])\n",
    "        plt.grid(True)\n",
    "        plt.show()\n",
    "    else:\n",
    "        print(\"No sleep stage data available in session data.\")"
   ]
  }
 ],
 "metadata": {
  "kernelspec": {
   "display_name": ".venv",
   "language": "python",
   "name": "python3"
  },
  "language_info": {
   "codemirror_mode": {
    "name": "ipython",
    "version": 3
   },
   "file_extension": ".py",
   "mimetype": "text/x-python",
   "name": "python",
   "nbconvert_exporter": "python",
   "pygments_lexer": "ipython3",
   "version": "3.9.6"
  }
 },
 "nbformat": 4,
 "nbformat_minor": 5
}
